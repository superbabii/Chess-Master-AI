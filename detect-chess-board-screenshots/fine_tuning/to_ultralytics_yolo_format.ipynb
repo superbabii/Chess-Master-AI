{
 "cells": [
  {
   "cell_type": "markdown",
   "metadata": {},
   "source": [
    "Convert the data we exported to [Ultralytics YOLO format](https://docs.ultralytics.com/datasets/detect/)."
   ]
  },
  {
   "cell_type": "code",
   "execution_count": 9,
   "metadata": {},
   "outputs": [],
   "source": [
    "import os\n",
    "\n",
    "# Input dirs\n",
    "base_input_dir = '../synthetic_data_creation/output'\n",
    "input_images_dir = os.path.join(base_input_dir, 'images')\n",
    "input_bboxes_dir = os.path.join(base_input_dir, 'bounding_boxes')\n",
    "\n",
    "# Input files\n",
    "image_files = os.listdir(input_images_dir)\n",
    "bbox_files = os.listdir(input_bboxes_dir)"
   ]
  },
  {
   "cell_type": "code",
   "execution_count": 10,
   "metadata": {},
   "outputs": [],
   "source": [
    "# Make the train/val split\n",
    "TRAIN_VAL_SPLIT = 0.8\n",
    "num_images = len(image_files)\n",
    "num_train_images = int(num_images * TRAIN_VAL_SPLIT)\n",
    "num_val_images = num_images - num_train_images\n",
    "\n",
    "train_image_files = image_files[:num_train_images]\n",
    "val_image_files = image_files[num_train_images:]\n",
    "train_bbox_files = bbox_files[:num_train_images]\n",
    "val_bbox_files = bbox_files[num_train_images:]\n",
    "\n",
    "assert {f.split('.')[0] for f in train_image_files} == {f.split('.')[0] for f in train_bbox_files}\n",
    "assert {f.split('.')[0] for f in val_image_files} == {f.split('.')[0] for f in val_bbox_files}"
   ]
  },
  {
   "cell_type": "code",
   "execution_count": 11,
   "metadata": {},
   "outputs": [],
   "source": [
    "base_output_dir = 'data/ultralytics_yolo_format'\n",
    "\n",
    "# Image/label output dirs\n",
    "output_images_dir = os.path.join(base_output_dir, \"images\")\n",
    "output_labels_dir = os.path.join(base_output_dir, \"labels\")\n",
    "\n",
    "# Train/val output dirs\n",
    "train_images_dir = os.path.join(output_images_dir, 'train')\n",
    "val_images_dir = os.path.join(output_images_dir, 'val')\n",
    "train_labels_dir = os.path.join(output_labels_dir, 'train')\n",
    "val_labels_dir = os.path.join(output_labels_dir, 'val')\n",
    "\n",
    "# Make the dirs\n",
    "os.makedirs(train_images_dir, exist_ok=True)\n",
    "os.makedirs(val_images_dir, exist_ok=True)\n",
    "os.makedirs(train_labels_dir, exist_ok=True)\n",
    "os.makedirs(val_labels_dir, exist_ok=True)"
   ]
  },
  {
   "cell_type": "code",
   "execution_count": 12,
   "metadata": {},
   "outputs": [],
   "source": [
    "def XminYminXmaxYmax_to_XcrYcrWrHr(\n",
    "    x_min: int,\n",
    "    y_min: int,\n",
    "    x_max: int,\n",
    "    y_max: int,\n",
    "    image_width: int,\n",
    "    image_height: int,\n",
    ") -> tuple[float, float, float, float]:\n",
    "    \"\"\"\n",
    "    Convert a bounding box from (x_min, y_min, x_max, y_max) format to (xc, yc, w, h) format,\n",
    "    with all new values being relative to the image width and height (between 0 and 1).\n",
    "    \"\"\"\n",
    "    x_center = (x_min + x_max) / 2 / image_width\n",
    "    y_center = (y_min + y_max) / 2 / image_height\n",
    "    width = (x_max - x_min) / image_width\n",
    "    height = (y_max - y_min) / image_height\n",
    "\n",
    "    assert all((0 <= val <= 1) for val in (x_center, y_center, width, height))\n",
    "\n",
    "    return x_center, y_center, width, height"
   ]
  },
  {
   "cell_type": "code",
   "execution_count": 14,
   "metadata": {},
   "outputs": [
    {
     "data": {
      "application/vnd.jupyter.widget-view+json": {
       "model_id": "430cd4510f65493594c4817a00b6f4d2",
       "version_major": 2,
       "version_minor": 0
      },
      "text/plain": [
       "  0%|          | 0/2000 [00:00<?, ?it/s]"
      ]
     },
     "metadata": {},
     "output_type": "display_data"
    }
   ],
   "source": [
    "from PIL import Image\n",
    "from tqdm.notebook import tqdm\n",
    "\n",
    "for i, (image_file, bbox_file) in tqdm(list(enumerate(zip(train_image_files, train_bbox_files)))):\n",
    "    image_id = image_file.split('.')[0]\n",
    "    assert image_id == bbox_file.split('.')[0]\n",
    "\n",
    "    # Get the existing bounding box\n",
    "    with open(os.path.join(input_bbox_dir, bbox_file), 'r') as f:\n",
    "        x_min, y_min, x_max, y_max = map(float, f.readline().strip().split(','))\n",
    "\n",
    "    # Get the image width and height\n",
    "    image = Image.open(os.path.join(input_images_dir, image_file))\n",
    "    image_width, image_height = image.size\n",
    "\n",
    "    # Convert the bounding box to the format required by YOLOv8:\n",
    "    # `(x_center_rel, y_center_rel, width_rel, height_rel)`\n",
    "    # (all values are between 0 and 1, relative to the image width and height)\n",
    "    xcr, ycr, wr, hr = XminYminXmaxYmax_to_XcrYcrWrHr(\n",
    "        x_min, y_min, x_max, y_max, image_width, image_height\n",
    "    )\n",
    "\n",
    "    # Write the bounding box to the output file\n",
    "    output_bbox_file = os.path.join(train_labels_dir, f'{image_id}.txt')\n",
    "    with open(output_bbox_file, 'w') as f:\n",
    "        f.write(f'0 {xcr:.6} {ycr:.6} {wr:.6} {hr:.6}')\n",
    "\n",
    "    # Copy the image to the output dir\n",
    "    image.save(os.path.join(train_images_dir, image_file))"
   ]
  },
  {
   "cell_type": "code",
   "execution_count": 15,
   "metadata": {},
   "outputs": [
    {
     "data": {
      "application/vnd.jupyter.widget-view+json": {
       "model_id": "3412c8735b354d259f7047f5bbb2d24f",
       "version_major": 2,
       "version_minor": 0
      },
      "text/plain": [
       "  0%|          | 0/500 [00:00<?, ?it/s]"
      ]
     },
     "metadata": {},
     "output_type": "display_data"
    }
   ],
   "source": [
    "from PIL import Image\n",
    "from tqdm.notebook import tqdm\n",
    "\n",
    "for i, (image_file, bbox_file) in tqdm(\n",
    "    list(enumerate(zip(val_image_files, val_bbox_files)))\n",
    "):\n",
    "    image_id = image_file.split(\".\")[0]\n",
    "    assert image_id == bbox_file.split(\".\")[0]\n",
    "\n",
    "    # Get the existing bounding box\n",
    "    with open(os.path.join(input_bbox_dir, bbox_file), \"r\") as f:\n",
    "        x_min, y_min, x_max, y_max = map(float, f.readline().strip().split(\",\"))\n",
    "\n",
    "    # Get the image width and height\n",
    "    image = Image.open(os.path.join(input_images_dir, image_file))\n",
    "    image_width, image_height = image.size\n",
    "\n",
    "    # Convert the bounding box to the format required by YOLOv8:\n",
    "    # `(x_center_rel, y_center_rel, width_rel, height_rel)`\n",
    "    # (all values are between 0 and 1, relative to the image width and height)\n",
    "    xcr, ycr, wr, hr = XminYminXmaxYmax_to_XcrYcrWrHr(\n",
    "        x_min, y_min, x_max, y_max, image_width, image_height\n",
    "    )\n",
    "\n",
    "    # Write the bounding box to the output file\n",
    "    output_bbox_file = os.path.join(val_labels_dir, f\"{image_id}.txt\")\n",
    "    with open(output_bbox_file, \"w\") as f:\n",
    "        f.write(f\"0 {xcr:.6} {ycr:.6} {wr:.6} {hr:.6}\")\n",
    "\n",
    "    # Copy the image to the output dir\n",
    "    image.save(os.path.join(val_images_dir, image_file))"
   ]
  }
 ],
 "metadata": {
  "kernelspec": {
   "display_name": "Python 3",
   "language": "python",
   "name": "python3"
  },
  "language_info": {
   "codemirror_mode": {
    "name": "ipython",
    "version": 3
   },
   "file_extension": ".py",
   "mimetype": "text/x-python",
   "name": "python",
   "nbconvert_exporter": "python",
   "pygments_lexer": "ipython3",
   "version": "3.11.9"
  }
 },
 "nbformat": 4,
 "nbformat_minor": 2
}
