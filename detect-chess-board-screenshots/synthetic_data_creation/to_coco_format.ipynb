{
 "cells": [
  {
   "cell_type": "code",
   "execution_count": 3,
   "metadata": {},
   "outputs": [],
   "source": [
    "import os"
   ]
  },
  {
   "cell_type": "code",
   "execution_count": 21,
   "metadata": {},
   "outputs": [],
   "source": [
    "# Create the 5 fields of the COCO annotation format\n",
    "info = {\n",
    "    \"description\": \"Chess board screenshot dataset\",\n",
    "    \"version\": \"1.0\",\n",
    "    \"year\": 2024,\n",
    "    \"contributor\": \"Jackson Hall\",\n",
    "    \"date_created\": \"2024-07-24\",\n",
    "}\n",
    "licenses = []\n",
    "images = []\n",
    "annotations = []\n",
    "categories = [\n",
    "    {\n",
    "        'id': 0,\n",
    "        'name': 'chess board screenshot',\n",
    "    }\n",
    "]"
   ]
  },
  {
   "cell_type": "code",
   "execution_count": 36,
   "metadata": {},
   "outputs": [],
   "source": [
    "import os\n",
    "\n",
    "IMAGES_DIR = os.path.join('output', 'images')\n",
    "BBOXES_DIR = os.path.join('output', 'bounding_boxes')\n",
    "\n",
    "image_files = os.listdir(IMAGES_DIR)\n",
    "bbox_files = os.listdir(BBOXES_DIR)"
   ]
  },
  {
   "cell_type": "code",
   "execution_count": 37,
   "metadata": {},
   "outputs": [
    {
     "data": {
      "application/vnd.jupyter.widget-view+json": {
       "model_id": "f9bfe1db3d924b139ab8db3b92332fe7",
       "version_major": 2,
       "version_minor": 0
      },
      "text/plain": [
       "  0%|          | 0/2500 [00:00<?, ?it/s]"
      ]
     },
     "metadata": {},
     "output_type": "display_data"
    }
   ],
   "source": [
    "from PIL import Image\n",
    "from tqdm.notebook import tqdm\n",
    "\n",
    "\n",
    "images = []\n",
    "annotations = []\n",
    "with tqdm(total=len(image_files)) as pbar:\n",
    "    for i, (image_file, bbox_file) in enumerate(zip(image_files, bbox_files)):\n",
    "        # Read the image\n",
    "        with open(os.path.join(IMAGES_DIR, image_file), 'rb') as f:\n",
    "            image = Image.open(f)\n",
    "        \n",
    "        # Get the height/width of the image in pixels\n",
    "        width, height = image.size\n",
    "        image_id = i\n",
    "        image = {\n",
    "            \"id\": image_id,\n",
    "            \"height\": height,\n",
    "            \"width\": width,\n",
    "            \"file_name\": os.path.join(IMAGES_DIR, image_file),\n",
    "            \"date_captured\": \"2024-07-25 00:00:00\",\n",
    "        }\n",
    "        images.append(image)\n",
    "\n",
    "        # Read the bounding box and add an annotation\n",
    "        with open(os.path.join(BBOXES_DIR, bbox_file), 'r') as f:\n",
    "            bboxes = f.read()\n",
    "\n",
    "        x, y, w, h = map(int, bboxes.split(','))\n",
    "        annotation = {\n",
    "            'image_id': image_id,\n",
    "            'category_id': 0,\n",
    "            'bbox': [x, y, w, h]\n",
    "        }\n",
    "        annotations.append(annotation)\n",
    "        pbar.update(1)\n"
   ]
  },
  {
   "cell_type": "code",
   "execution_count": 47,
   "metadata": {},
   "outputs": [],
   "source": [
    "# Split the data into training and validation sets\n",
    "TRAIN_VAL_RATIO = 0.8\n",
    "train_size = int(len(image_files) * TRAIN_VAL_RATIO)\n",
    "test_size = len(image_files) - train_size\n",
    "\n",
    "train_images = images[:train_size]\n",
    "train_annotations = annotations[:train_size]\n",
    "\n",
    "val_images = images[train_size:]\n",
    "val_annotations = annotations[train_size:]\n",
    "\n",
    "train_dataset = {\n",
    "    \"info\": info,\n",
    "    \"licenses\": licenses,\n",
    "    \"images\": train_images,\n",
    "    \"annotations\": train_annotations,\n",
    "    \"categories\": categories,\n",
    "}\n",
    "val_dataset = {\n",
    "    \"info\": info,\n",
    "    \"licenses\": licenses,\n",
    "    \"images\": val_images,\n",
    "    \"annotations\": val_annotations,\n",
    "    \"categories\": categories,\n",
    "}"
   ]
  },
  {
   "cell_type": "code",
   "execution_count": 48,
   "metadata": {},
   "outputs": [],
   "source": [
    "import json\n",
    "\n",
    "TRAIN_OUTPUT_FILE = 'output/chess_board_screenshots_train.coco.json'\n",
    "VAL_OUTPUT_FILE = 'output/chess_board_screenshots_val.coco.json'\n",
    "\n",
    "with open(TRAIN_OUTPUT_FILE, 'w') as f:\n",
    "    json.dump(train_dataset, f)\n",
    "\n",
    "with open(VAL_OUTPUT_FILE, 'w') as f:\n",
    "    json.dump(val_dataset, f)"
   ]
  },
  {
   "cell_type": "code",
   "execution_count": 5,
   "metadata": {},
   "outputs": [
    {
     "ename": "FileNotFoundError",
     "evalue": "[WinError 3] The system cannot find the path specified: 'C:\\\\Users\\\\jacks\\\\OneDrive\\\\Documents\\\\Code\\\\detect-chess-board-screenshots\\\\synthetic_data_creation\\\\labels\\\\train'",
     "output_type": "error",
     "traceback": [
      "\u001b[1;31m---------------------------------------------------------------------------\u001b[0m",
      "\u001b[1;31mFileNotFoundError\u001b[0m                         Traceback (most recent call last)",
      "Cell \u001b[1;32mIn[5], line 67\u001b[0m\n\u001b[0;32m     64\u001b[0m label_subdir \u001b[38;5;241m=\u001b[39m \u001b[38;5;124m\"\u001b[39m\u001b[38;5;124mlabels\u001b[39m\u001b[38;5;124m\"\u001b[39m\n\u001b[0;32m     66\u001b[0m \u001b[38;5;66;03m# Process bounding boxes\u001b[39;00m\n\u001b[1;32m---> 67\u001b[0m \u001b[43mprocess_bounding_boxes\u001b[49m\u001b[43m(\u001b[49m\u001b[43mroot_dir\u001b[49m\u001b[43m,\u001b[49m\u001b[43m \u001b[49m\u001b[43moutput_dir\u001b[49m\u001b[43m,\u001b[49m\u001b[43m \u001b[49m\u001b[43mimage_subdir\u001b[49m\u001b[43m,\u001b[49m\u001b[43m \u001b[49m\u001b[43mlabel_subdir\u001b[49m\u001b[43m)\u001b[49m\n",
      "Cell \u001b[1;32mIn[5], line 31\u001b[0m, in \u001b[0;36mprocess_bounding_boxes\u001b[1;34m(input_dir, output_dir, image_subdir, label_subdir)\u001b[0m\n\u001b[0;32m     28\u001b[0m \u001b[38;5;28;01mif\u001b[39;00m \u001b[38;5;129;01mnot\u001b[39;00m os\u001b[38;5;241m.\u001b[39mpath\u001b[38;5;241m.\u001b[39mexists(output_label_phase_dir):\n\u001b[0;32m     29\u001b[0m     os\u001b[38;5;241m.\u001b[39mmakedirs(output_label_phase_dir)\n\u001b[1;32m---> 31\u001b[0m \u001b[38;5;28;01mfor\u001b[39;00m filename \u001b[38;5;129;01min\u001b[39;00m \u001b[43mos\u001b[49m\u001b[38;5;241;43m.\u001b[39;49m\u001b[43mlistdir\u001b[49m\u001b[43m(\u001b[49m\u001b[43mlabel_phase_dir\u001b[49m\u001b[43m)\u001b[49m:\n\u001b[0;32m     32\u001b[0m     \u001b[38;5;28;01mif\u001b[39;00m filename\u001b[38;5;241m.\u001b[39mendswith(\u001b[38;5;124m\"\u001b[39m\u001b[38;5;124m.txt\u001b[39m\u001b[38;5;124m\"\u001b[39m):\n\u001b[0;32m     33\u001b[0m         image_filename \u001b[38;5;241m=\u001b[39m filename\u001b[38;5;241m.\u001b[39mreplace(\u001b[38;5;124m\"\u001b[39m\u001b[38;5;124m.txt\u001b[39m\u001b[38;5;124m\"\u001b[39m, \u001b[38;5;124m\"\u001b[39m\u001b[38;5;124m.jpg\u001b[39m\u001b[38;5;124m\"\u001b[39m)\n",
      "\u001b[1;31mFileNotFoundError\u001b[0m: [WinError 3] The system cannot find the path specified: 'C:\\\\Users\\\\jacks\\\\OneDrive\\\\Documents\\\\Code\\\\detect-chess-board-screenshots\\\\synthetic_data_creation\\\\labels\\\\train'"
     ]
    }
   ],
   "source": [
    "import os\n",
    "import cv2\n",
    "\n",
    "\n",
    "def convert_to_yolo_format(x, y, w, h, img_width, img_height):\n",
    "    # Calculate the center of the box\n",
    "    x_center = x + w / 2.0\n",
    "    y_center = y + h / 2.0\n",
    "\n",
    "    # Normalize the coordinates\n",
    "    x_center /= img_width\n",
    "    y_center /= img_height\n",
    "    w /= img_width\n",
    "    h /= img_height\n",
    "\n",
    "    return x_center, y_center, w, h\n",
    "\n",
    "\n",
    "def process_bounding_boxes(input_dir, output_dir, image_subdir, label_subdir):\n",
    "    image_dir = os.path.join(input_dir, image_subdir)\n",
    "    label_dir = os.path.join(input_dir, label_subdir)\n",
    "\n",
    "    for phase in [\"train\", \"val\"]:\n",
    "        image_phase_dir = os.path.join(image_dir, phase)\n",
    "        label_phase_dir = os.path.join(label_dir, phase)\n",
    "        output_label_phase_dir = os.path.join(output_dir, label_subdir, phase)\n",
    "\n",
    "        if not os.path.exists(output_label_phase_dir):\n",
    "            os.makedirs(output_label_phase_dir)\n",
    "\n",
    "        for filename in os.listdir(label_phase_dir):\n",
    "            if filename.endswith(\".txt\"):\n",
    "                image_filename = filename.replace(\".txt\", \".jpg\")\n",
    "                image_path = os.path.join(image_phase_dir, image_filename)\n",
    "                label_path = os.path.join(label_phase_dir, filename)\n",
    "\n",
    "                # Read image to get its dimensions\n",
    "                image = cv2.imread(image_path)\n",
    "                img_height, img_width, _ = image.shape\n",
    "\n",
    "                with open(label_path, \"r\") as file:\n",
    "                    lines = file.readlines()\n",
    "\n",
    "                yolo_lines = []\n",
    "                for line in lines:\n",
    "                    class_id, x, y, w, h = map(float, line.split())\n",
    "                    x_center, y_center, norm_w, norm_h = convert_to_yolo_format(\n",
    "                        x, y, w, h, img_width, img_height\n",
    "                    )\n",
    "                    yolo_line = (\n",
    "                        f\"{int(class_id)} {x_center} {y_center} {norm_w} {norm_h}\\n\"\n",
    "                    )\n",
    "                    yolo_lines.append(yolo_line)\n",
    "\n",
    "                output_label_path = os.path.join(output_label_phase_dir, filename)\n",
    "                with open(output_label_path, \"w\") as out_file:\n",
    "                    out_file.writelines(yolo_lines)\n",
    "\n",
    "\n",
    "# Define your directories\n",
    "root_dir = r\"C:\\Users\\jacks\\OneDrive\\Documents\\Code\\detect-chess-board-screenshots\\synthetic_data_creation\"\n",
    "output_dir = os.path.join(root_dir, \"output\")\n",
    "image_subdir = \"images\"\n",
    "label_subdir = \"labels\"\n",
    "\n",
    "# Process bounding boxes\n",
    "process_bounding_boxes(root_dir, output_dir, image_subdir, label_subdir)"
   ]
  }
 ],
 "metadata": {
  "kernelspec": {
   "display_name": "Python 3",
   "language": "python",
   "name": "python3"
  },
  "language_info": {
   "codemirror_mode": {
    "name": "ipython",
    "version": 3
   },
   "file_extension": ".py",
   "mimetype": "text/x-python",
   "name": "python",
   "nbconvert_exporter": "python",
   "pygments_lexer": "ipython3",
   "version": "3.11.9"
  }
 },
 "nbformat": 4,
 "nbformat_minor": 2
}
